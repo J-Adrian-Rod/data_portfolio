{
 "cells": [
  {
   "cell_type": "code",
   "execution_count": null,
   "id": "15ea822b",
   "metadata": {},
   "outputs": [],
   "source": [
    "#convert NASA MAT files to CSV files "
   ]
  },
  {
   "cell_type": "code",
   "execution_count": null,
   "id": "2ba8e540",
   "metadata": {},
   "outputs": [],
   "source": [
    "#imports\n",
    "import os\n",
    "import scipy.io\n",
    "import numpy as np\n",
    "import pandas as pd\n",
    "from tqdm import tqdm\n",
    "from sklearn.cluster import KMeans"
   ]
  },
  {
   "cell_type": "code",
   "execution_count": null,
   "id": "1d5596ab",
   "metadata": {},
   "outputs": [],
   "source": [
    "# Title: Visualize Altitude by Cluster and Phase\n",
    "\n",
    "# Description:\n",
    "# Creates scatter plots showing altitude over record index, \n",
    "# colored by cluster assignments and separated by flight phase, \n",
    "# to help visualize altitude patterns across different flight states.\n"
   ]
  },
  {
   "cell_type": "code",
   "execution_count": null,
   "id": "e0ed8d8d",
   "metadata": {},
   "outputs": [],
   "source": [
    "raw_data_folder = 'raw_data'\n",
    "output_folder = 'output'\n",
    "os.makedirs(output_folder, exist_ok=True)\n",
    "\n",
    "total_files = 0  # count csv files \n",
    "\n",
    "# Loop through folders in 'raw_data'\n",
    "for folder in tqdm(os.listdir(raw_data_folder), desc='Folders'):\n",
    "    folder_path = os.path.join(raw_data_folder, folder)\n",
    "    if os.path.isdir(folder_path):\n",
    "        # Loop through .mat file in subfolder\n",
    "        for file in tqdm(os.listdir(folder_path), desc=f'Files in {folder}', leave=False):\n",
    "            if file.endswith('.mat'):\n",
    "                input_file_path = os.path.join(folder_path, file)\n",
    "                try:\n",
    "                    mat = scipy.io.loadmat(input_file_path)\n",
    "                except FileNotFoundError:\n",
    "                    print(f\" Skipping missing file: {file}\")\n",
    "                    continue\n",
    "                except Exception as e:\n",
    "                    print(f\" Error loading {file}: {e}\")\n",
    "                    continue\n",
    "\n",
    "                unpacked = {}\n",
    "                for k, v in mat.items():\n",
    "                    if not k.startswith('__') and isinstance(v, np.ndarray):\n",
    "                        try:\n",
    "                            val = v.item()\n",
    "                            if isinstance(val, (int, float, np.number)):\n",
    "                                unpacked[k] = np.array([val])\n",
    "                            elif isinstance(val, np.ndarray):\n",
    "                                unpacked[k] = val.flatten()\n",
    "                            elif isinstance(val, tuple):\n",
    "                                first = val[0]\n",
    "                                if isinstance(first, np.ndarray):\n",
    "                                    unpacked[k] = first.flatten()\n",
    "                                elif isinstance(first, (int, float, np.number)):\n",
    "                                    unpacked[k] = np.array([first])\n",
    "                                else:\n",
    "                                    print(f\" Skipping {k}: tuple contains {type(first)}\")\n",
    "                            else:\n",
    "                                print(f\" Skipping {k}: unexpected type {type(val)}\")\n",
    "                        except Exception as e:\n",
    "                            print(f\" Could not process {k}: {e}\")\n",
    "\n",
    "                if unpacked:\n",
    "                    max_len = max(len(a) for a in unpacked.values())\n",
    "                    for key in unpacked:\n",
    "                        arr = unpacked[key].astype(float)\n",
    "                        if len(arr) < max_len:\n",
    "                            arr = np.pad(arr, (0, max_len - len(arr)), constant_values=np.nan)\n",
    "                        unpacked[key] = arr\n",
    "\n",
    "                    df_file = pd.DataFrame(unpacked)\n",
    "                    df_file['filename'] = file\n",
    "\n",
    "                    output_file_path = os.path.join(output_folder, f\"{folder}_{file.replace('.mat', '.csv')}\")\n",
    "                    df_file.to_csv(output_file_path, index=False)\n",
    "                    total_files += 1\n",
    "                    print(f\" Saved {output_file_path}\")\n",
    "\n",
    "print(f\" Finished processing. Total files saved: {total_files}\")\n"
   ]
  }
 ],
 "metadata": {
  "kernelspec": {
   "display_name": "base",
   "language": "python",
   "name": "python3"
  },
  "language_info": {
   "codemirror_mode": {
    "name": "ipython",
    "version": 3
   },
   "file_extension": ".py",
   "mimetype": "text/x-python",
   "name": "python",
   "nbconvert_exporter": "python",
   "pygments_lexer": "ipython3",
   "version": "3.11.3"
  }
 },
 "nbformat": 4,
 "nbformat_minor": 5
}
