{
 "cells": [
  {
   "cell_type": "markdown",
   "metadata": {},
   "source": [
    "# Overview"
   ]
  },
  {
   "cell_type": "markdown",
   "metadata": {},
   "source": [
    "In this comprehensive project, part of an advanced Skillshare course, I explored data analytics and modeling in-depth. The project encompassed a series of critical steps, starting with systematically collecting COVID-19 data from the Johns Hopkins repository. The project walked me through the data cleaning and transformation process to ensure the accuracy and reliability of the data. I then applied techniques for data smoothing to enhance the dataset's clarity and interpretability.\n",
    "\n",
    "A vital aspect of the project involved implementing logistic growth modeling to accurately predict emerging trends and potential new waves within the dataset. To streamline and organize my code, I encapsulated it into well-structured classes, enhancing readability and maintainability.\n",
    "The final stage of the project focused on data visualization, where I used Plotly to create dynamic and interactive graphs. These visualizations were instrumental in providing precise, insightful representations of the analyzed data. These visualizations resulted in an output that helped communicate underlying patterns and trends."
   ]
  }
 ],
 "metadata": {
  "kernelspec": {
   "display_name": "Python 3 (ipykernel)",
   "language": "python",
   "name": "python3"
  },
  "language_info": {
   "codemirror_mode": {
    "name": "ipython",
    "version": 3
   },
   "file_extension": ".py",
   "mimetype": "text/x-python",
   "name": "python",
   "nbconvert_exporter": "python",
   "pygments_lexer": "ipython3",
   "version": "3.11.3"
  }
 },
 "nbformat": 4,
 "nbformat_minor": 4
}
