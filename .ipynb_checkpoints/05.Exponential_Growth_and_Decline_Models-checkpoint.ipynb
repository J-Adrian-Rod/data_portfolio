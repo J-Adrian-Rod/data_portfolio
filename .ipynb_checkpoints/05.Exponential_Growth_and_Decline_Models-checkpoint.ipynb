{
 "cells": [
  {
   "cell_type": "markdown",
   "metadata": {},
   "source": [
    "# Exponential Growth and Decline Models\n",
    "\n",
    "Accurate prediction of exponential growth and decline can be accomplished by fitting the data into several well-established models.\n",
    "\n",
    "## Exponential Growth and Decline\n",
    "\n",
    "In the most general form, the exponential growth function is defined by the following equation:\n",
    "\n",
    "$$f(x) = ab^x$$\n",
    "\n",
    "\n",
    "The model is defined by three key parameters: `a`, which represents the starting value; `b`, the growth rate; and `x`, symbolizing time. The behavior of the model is heavily influenced by the value of `b`. Specifically, when `b` is less than 1, the starting value progressively decreases towards 0. Conversely, if `b` is greater than 1, the starting value amplifies, growing towards infinity. At each step in the process, the previous value is either increased or decreased by a factor of `b`."
   ]
  },
  {
   "cell_type": "code",
   "execution_count": 1,
   "metadata": {},
   "outputs": [
    {
     "ename": "OSError",
     "evalue": "'dashboard.mplstyle' is not a valid package style, path of style file, URL of style file, or library style name (library styles are listed in `style.available`)",
     "output_type": "error",
     "traceback": [
      "\u001b[0;31m---------------------------------------------------------------------------\u001b[0m",
      "\u001b[0;31mFileNotFoundError\u001b[0m                         Traceback (most recent call last)",
      "File \u001b[0;32m~/anaconda3/lib/python3.11/site-packages/matplotlib/style/core.py:166\u001b[0m, in \u001b[0;36muse\u001b[0;34m(style)\u001b[0m\n\u001b[1;32m    165\u001b[0m \u001b[38;5;28;01mtry\u001b[39;00m:\n\u001b[0;32m--> 166\u001b[0m     style \u001b[38;5;241m=\u001b[39m _rc_params_in_file(style)\n\u001b[1;32m    167\u001b[0m \u001b[38;5;28;01mexcept\u001b[39;00m \u001b[38;5;167;01mIOError\u001b[39;00m \u001b[38;5;28;01mas\u001b[39;00m err:\n",
      "File \u001b[0;32m~/anaconda3/lib/python3.11/site-packages/matplotlib/__init__.py:850\u001b[0m, in \u001b[0;36m_rc_params_in_file\u001b[0;34m(fname, transform, fail_on_error)\u001b[0m\n\u001b[1;32m    849\u001b[0m rc_temp \u001b[38;5;241m=\u001b[39m {}\n\u001b[0;32m--> 850\u001b[0m \u001b[38;5;28;01mwith\u001b[39;00m _open_file_or_url(fname) \u001b[38;5;28;01mas\u001b[39;00m fd:\n\u001b[1;32m    851\u001b[0m     \u001b[38;5;28;01mtry\u001b[39;00m:\n",
      "File \u001b[0;32m~/anaconda3/lib/python3.11/contextlib.py:137\u001b[0m, in \u001b[0;36m_GeneratorContextManager.__enter__\u001b[0;34m(self)\u001b[0m\n\u001b[1;32m    136\u001b[0m \u001b[38;5;28;01mtry\u001b[39;00m:\n\u001b[0;32m--> 137\u001b[0m     \u001b[38;5;28;01mreturn\u001b[39;00m \u001b[38;5;28mnext\u001b[39m(\u001b[38;5;28mself\u001b[39m\u001b[38;5;241m.\u001b[39mgen)\n\u001b[1;32m    138\u001b[0m \u001b[38;5;28;01mexcept\u001b[39;00m \u001b[38;5;167;01mStopIteration\u001b[39;00m:\n",
      "File \u001b[0;32m~/anaconda3/lib/python3.11/site-packages/matplotlib/__init__.py:827\u001b[0m, in \u001b[0;36m_open_file_or_url\u001b[0;34m(fname)\u001b[0m\n\u001b[1;32m    826\u001b[0m fname \u001b[38;5;241m=\u001b[39m os\u001b[38;5;241m.\u001b[39mpath\u001b[38;5;241m.\u001b[39mexpanduser(fname)\n\u001b[0;32m--> 827\u001b[0m \u001b[38;5;28;01mwith\u001b[39;00m \u001b[38;5;28mopen\u001b[39m(fname, encoding\u001b[38;5;241m=\u001b[39m\u001b[38;5;124m'\u001b[39m\u001b[38;5;124mutf-8\u001b[39m\u001b[38;5;124m'\u001b[39m) \u001b[38;5;28;01mas\u001b[39;00m f:\n\u001b[1;32m    828\u001b[0m     \u001b[38;5;28;01myield\u001b[39;00m f\n",
      "\u001b[0;31mFileNotFoundError\u001b[0m: [Errno 2] No such file or directory: 'dashboard.mplstyle'",
      "\nThe above exception was the direct cause of the following exception:\n",
      "\u001b[0;31mOSError\u001b[0m                                   Traceback (most recent call last)",
      "Cell \u001b[0;32mIn[1], line 4\u001b[0m\n\u001b[1;32m      2\u001b[0m \u001b[38;5;28;01mimport\u001b[39;00m \u001b[38;5;21;01mpandas\u001b[39;00m \u001b[38;5;28;01mas\u001b[39;00m \u001b[38;5;21;01mpd\u001b[39;00m\n\u001b[1;32m      3\u001b[0m \u001b[38;5;28;01mimport\u001b[39;00m \u001b[38;5;21;01mmatplotlib\u001b[39;00m\u001b[38;5;21;01m.\u001b[39;00m\u001b[38;5;21;01mpyplot\u001b[39;00m \u001b[38;5;28;01mas\u001b[39;00m \u001b[38;5;21;01mplt\u001b[39;00m\n\u001b[0;32m----> 4\u001b[0m plt\u001b[38;5;241m.\u001b[39mstyle\u001b[38;5;241m.\u001b[39muse(\u001b[38;5;124m'\u001b[39m\u001b[38;5;124mdashboard.mplstyle\u001b[39m\u001b[38;5;124m'\u001b[39m)\n\u001b[1;32m      6\u001b[0m a \u001b[38;5;241m=\u001b[39m \u001b[38;5;241m200\u001b[39m\n\u001b[1;32m      7\u001b[0m x \u001b[38;5;241m=\u001b[39m np\u001b[38;5;241m.\u001b[39marange(\u001b[38;5;241m20\u001b[39m)\n",
      "File \u001b[0;32m~/anaconda3/lib/python3.11/site-packages/matplotlib/style/core.py:168\u001b[0m, in \u001b[0;36muse\u001b[0;34m(style)\u001b[0m\n\u001b[1;32m    166\u001b[0m         style \u001b[38;5;241m=\u001b[39m _rc_params_in_file(style)\n\u001b[1;32m    167\u001b[0m     \u001b[38;5;28;01mexcept\u001b[39;00m \u001b[38;5;167;01mIOError\u001b[39;00m \u001b[38;5;28;01mas\u001b[39;00m err:\n\u001b[0;32m--> 168\u001b[0m         \u001b[38;5;28;01mraise\u001b[39;00m \u001b[38;5;167;01mIOError\u001b[39;00m(\n\u001b[1;32m    169\u001b[0m             \u001b[38;5;124mf\u001b[39m\u001b[38;5;124m\"\u001b[39m\u001b[38;5;132;01m{\u001b[39;00mstyle\u001b[38;5;132;01m!r}\u001b[39;00m\u001b[38;5;124m is not a valid package style, path of style \u001b[39m\u001b[38;5;124m\"\u001b[39m\n\u001b[1;32m    170\u001b[0m             \u001b[38;5;124mf\u001b[39m\u001b[38;5;124m\"\u001b[39m\u001b[38;5;124mfile, URL of style file, or library style name (library \u001b[39m\u001b[38;5;124m\"\u001b[39m\n\u001b[1;32m    171\u001b[0m             \u001b[38;5;124mf\u001b[39m\u001b[38;5;124m\"\u001b[39m\u001b[38;5;124mstyles are listed in `style.available`)\u001b[39m\u001b[38;5;124m\"\u001b[39m) \u001b[38;5;28;01mfrom\u001b[39;00m \u001b[38;5;21;01merr\u001b[39;00m\n\u001b[1;32m    172\u001b[0m filtered \u001b[38;5;241m=\u001b[39m {}\n\u001b[1;32m    173\u001b[0m \u001b[38;5;28;01mfor\u001b[39;00m k \u001b[38;5;129;01min\u001b[39;00m style:  \u001b[38;5;66;03m# don't trigger RcParams.__getitem__('backend')\u001b[39;00m\n",
      "\u001b[0;31mOSError\u001b[0m: 'dashboard.mplstyle' is not a valid package style, path of style file, URL of style file, or library style name (library styles are listed in `style.available`)"
     ]
    }
   ],
   "source": [
    "import numpy as np\n",
    "import pandas as pd\n",
    "import matplotlib.pyplot as plt\n",
    "plt.style.use('dashboard.mplstyle')\n",
    "\n",
    "a = 200\n",
    "x = np.arange(20)\n",
    "\n",
    "# growth at 10% each day\n",
    "y_inc = a * 1.1 ** x\n",
    "# decline at 20% each day\n",
    "y_dec = a * 0.8 ** x\n",
    "\n",
    "fig, ax = plt.subplots()\n",
    "ax.plot(y_inc, label='exp growth')\n",
    "ax.plot(y_dec, label='exp decline')\n",
    "ax.legend();"
   ]
  },
  {
   "cell_type": "markdown",
   "metadata": {},
   "source": [
    "## Modeling Total Cases with Scipy's `least_squares`\n",
    "\n",
    "The `least_square` method is used to find the best fitting line/curved for regression analysis. The best fitting line is found by minimizing the sum of the squares (`the difference between the values observed and the values predicted by the model`). \n"
   ]
  },
  {
   "cell_type": "code",
   "execution_count": null,
   "metadata": {},
   "outputs": [],
   "source": [
    "from prepare import PrepareData\n",
    "data = PrepareData(download_new=False).run()\n",
    "usa_cases = data['usa_cases']\n",
    "usa_cases = usa_cases.loc[:'2020-09-01']\n",
    "californiac = usa_cases['California']\n",
    "californiac = californiac[californiac > 0]\n",
    "californiac.head()"
   ]
  },
  {
   "cell_type": "code",
   "execution_count": null,
   "metadata": {},
   "outputs": [],
   "source": [
    "californiac.plot();"
   ]
  },
  {
   "cell_type": "markdown",
   "metadata": {},
   "source": [
    "## Exponential Growth "
   ]
  },
  {
   "cell_type": "code",
   "execution_count": null,
   "metadata": {},
   "outputs": [],
   "source": [
    "\n",
    "def simple_exp(x, a, b):\n",
    "    \"\"\"\n",
    "    Simple exponential model\n",
    "    \n",
    "    Parameters\n",
    "    ----------\n",
    "    x : array of x-values, usually just np.arange(len(y))\n",
    "    \n",
    "    a : initial starting value\n",
    "    \n",
    "    b : growth rate\n",
    "    \n",
    "    Returns\n",
    "    -------\n",
    "    Evaluated function values as an array\n",
    "    \"\"\"\n",
    "    return a * b ** x"
   ]
  },
  {
   "cell_type": "markdown",
   "metadata": {},
   "source": [
    "The `least_square` function from scipy's `optimize` module will help find optimal values for `a` and `b`. "
   ]
  },
  {
   "cell_type": "code",
   "execution_count": null,
   "metadata": {},
   "outputs": [],
   "source": [
    "def optimize_func(params, x, y, model):\n",
    "    \"\"\"\n",
    "    Function to be passed as first argument to least_squares\n",
    "\n",
    "    Parameters\n",
    "    ----------\n",
    "    params : sequence of parameter values for model\n",
    "\n",
    "    x : x-values from data\n",
    "\n",
    "    y : y-values from data\n",
    "\n",
    "    model : function to be evaluated at x with params\n",
    "\n",
    "    Returns\n",
    "    -------\n",
    "    Error between function and actual data\n",
    "    \"\"\"\n",
    "    y_pred = model(x, *params)\n",
    "    error = y - y_pred\n",
    "    return error"
   ]
  },
  {
   "cell_type": "markdown",
   "metadata": {},
   "source": [
    "The `least_squares` function is structured as follows:\n",
    "\n",
    "```python\n",
    "least_squares(optimize_func, initial_guess, args=(x, y, model))\n",
    "```\n",
    "\n",
    "This function requires an initial estimate for `x0`. The purpose of this initial guess is to aid in identifying parameter values that effectively minimize the total squared error. The `args` keyword parameter enables the passing of `x`, `y`, and `model` as a tuple.\n",
    "\n",
    "For the parameters `a` and `b`, an initial guess of 1 is chosen. This serves as an optimal starting point since `a` is required to be positive, and `b` must exceed 1. The parameter values are further refined by setting bounds as a two-item tuple, representing the lower and upper limits. Specifically, `a` is bounded between 1 and infinity, while `b` is constrained within the range of 1 to 10.\n",
    "\n",
    "The output of the `least_squares` function is an object encompassing detailed information regarding the optimization process. This information is subsequently assigned to the variable `res`, facilitating further analysis and application.\n"
   ]
  },
  {
   "cell_type": "code",
   "execution_count": null,
   "metadata": {},
   "outputs": [],
   "source": [
    "from scipy.optimize import least_squares\n",
    "y = californiac.values\n",
    "x = np.arange(len(y))\n",
    "lower_bounds = 1, 1\n",
    "upper_bounds = np.inf, 10\n",
    "bounds = lower_bounds, upper_bounds\n",
    "p0 = 1, 1\n",
    "res = least_squares(optimize_func, p0, args=(x, y, simple_exp), bounds=bounds)"
   ]
  },
  {
   "cell_type": "markdown",
   "metadata": {},
   "source": [
    "The optimal values of the parameters are found in the `x` attribute."
   ]
  },
  {
   "cell_type": "code",
   "execution_count": null,
   "metadata": {},
   "outputs": [],
   "source": [
    "res.x"
   ]
  },
  {
   "cell_type": "code",
   "execution_count": null,
   "metadata": {},
   "outputs": [],
   "source": [
    "y_pred = simple_exp(x, *res.x)\n",
    "s_pred = pd.Series(data=y_pred, index=californiac.index)\n",
    "californiac.plot(label=\"Actual\")\n",
    "s_pred.plot(label=\"Model\").legend();\n"
   ]
  },
  {
   "cell_type": "markdown",
   "metadata": {},
   "source": [
    "### Predicting unseen data\n",
    "The model closely resembles the data, but the model is intended to predict data that has yet to be observed. The accuracy of the model can be tested by comparing the model's predicted values to actual values. Building the model up to May 30th and comparing the actual vs. predicted values will evaluate the model's accuracy."
   ]
  },
  {
   "cell_type": "code",
   "execution_count": null,
   "metadata": {},
   "outputs": [],
   "source": [
    "y = californiac[:'2020-05-30']\n",
    "x = np.arange(len(y))\n",
    "res = least_squares(optimize_func, p0, args=(x, y, simple_exp), bounds=bounds)\n",
    "x_pred = np.arange(len(californiac))\n",
    "y_pred = simple_exp(x_pred, *res.x)\n",
    "s_pred = pd.Series(data=y_pred, index=californiac.index)\n",
    "californiac.plot(label=\"Actual\")\n",
    "s_pred[:'2020-05-30'].plot(label=\"Model (seen data)\", \n",
    "                        title=\"California Cases - Simple Exponential Model\")\n",
    "s_pred['2020-05-30':].plot(label=\"Model (unseen data)\").legend();"
   ]
  },
  {
   "cell_type": "markdown",
   "metadata": {},
   "source": [
    "The predicted values don't allign with the actual values."
   ]
  },
  {
   "cell_type": "markdown",
   "metadata": {
    "jp-MarkdownHeadingCollapsed": true,
    "tags": []
   },
   "source": [
    "### Optimizing `least_squares`\n",
    "\n",
    "The purpose of the `least_squares` method is to find a set of parameters that minimizes the error between actual values and values predicted by the model. \n",
    "\n",
    "The `least_square` method calculates the optimal set of parameters through an algorithm that itertaivly calculates the sum of squared errors (SEE). In the case that the change in the SSE is below a predefined threshold the algorith will stop and return the parameters. There are two main thresholds for the `least_square` method.\n",
    "\n",
    "* `ftol` - change in SSE (default 1e-8)\n",
    "* `xtol` - change in parameter values (default 1e-8)\n",
    "\n",
    "Useful parameters:\n",
    "\n",
    "* `max_nfev` - Maximum number of function evaluations before algorithm stops (default: number of observations * 100)\n",
    "* `verbose` - Set to 1 for printed results and 2 for detailed results (default: 0).\n"
   ]
  },
  {
   "cell_type": "code",
   "execution_count": null,
   "metadata": {},
   "outputs": [],
   "source": [
    "res = least_squares(optimize_func, p0, args=(x, y, simple_exp), bounds=bounds, verbose=1)\n",
    "res.x"
   ]
  },
  {
   "cell_type": "code",
   "execution_count": null,
   "metadata": {},
   "outputs": [],
   "source": [
    "def train_model(s, last_date, model, bounds, p0, **kwargs):\n",
    "    \"\"\"\n",
    "    Trains a model on the series up to the specified date.\n",
    "\n",
    "    Parameters\n",
    "    ----------\n",
    "    s : Series\n",
    "    last_date : str\n",
    "    model : function\n",
    "    bounds : tuple\n",
    "    p0 : tuple\n",
    "    kwargs : dict\n",
    "\n",
    "    Returns\n",
    "    -------\n",
    "    numpy array\n",
    "    \"\"\"\n",
    "    y = s.loc[:last_date]\n",
    "    n_train = len(y)\n",
    "    x = np.arange(n_train)\n",
    "    res = least_squares(optimize_func, p0, args=(x, y, model), bounds=bounds, **kwargs)\n",
    "    return res.x"
   ]
  },
  {
   "cell_type": "markdown",
   "metadata": {},
   "source": [
    "Previously, I tested the accuracy of my predictive model by comparing predicted values with actual values. I built the model up to May 30th. I will conduct the same test with my new model. \n"
   ]
  },
  {
   "cell_type": "code",
   "execution_count": null,
   "metadata": {},
   "outputs": [],
   "source": [
    "from functions import train_model\n",
    "last_date = '2020-05-30'\n",
    "params = train_model(californiac, last_date=last_date,\n",
    "                     model=simple_exp, p0=p0, bounds=bounds)\n",
    "params"
   ]
  },
  {
   "cell_type": "code",
   "execution_count": null,
   "metadata": {},
   "outputs": [],
   "source": [
    "def get_daily_pred(model, params, n_train, n_pred):\n",
    "    \"\"\"\n",
    "    Generates daily predictions using the trained model.\n",
    "\n",
    "    Parameters\n",
    "    ----------\n",
    "    model : function\n",
    "    params : array\n",
    "    n_train : int\n",
    "    n_pred : int\n",
    "\n",
    "    Returns\n",
    "    -------\n",
    "    array\n",
    "    \"\"\"\n",
    "    x_pred = np.arange(n_train - 1, n_train + n_pred)\n",
    "    y_pred = model(x_pred, *params)\n",
    "    y_pred_daily = np.diff(y_pred)\n",
    "    return y_pred_daily"
   ]
  },
  {
   "cell_type": "markdown",
   "metadata": {},
   "source": [
    "Using the `get_daily_pred` function to predict the next 50 daily new cases in California."
   ]
  },
  {
   "cell_type": "code",
   "execution_count": null,
   "metadata": {},
   "outputs": [],
   "source": [
    "from functions import get_daily_pred\n",
    "n_train = len(californiac.loc[:last_date])\n",
    "y_pred_daily = get_daily_pred(simple_exp, params, n_train, n_pred=50).round()\n",
    "y_pred_daily"
   ]
  },
  {
   "cell_type": "markdown",
   "metadata": {},
   "source": [
    "These daily values can be used to calculate the total the cumulative total for California cases."
   ]
  },
  {
   "cell_type": "code",
   "execution_count": null,
   "metadata": {},
   "outputs": [],
   "source": [
    "#Finding last known total\n",
    "last_actual_value = californiac['2020-5-30']\n",
    "last_actual_value"
   ]
  },
  {
   "cell_type": "markdown",
   "metadata": {},
   "source": [
    "Adding the value above (last_actual_value) can be used to find predicted cumulative total."
   ]
  },
  {
   "cell_type": "code",
   "execution_count": null,
   "metadata": {},
   "outputs": [],
   "source": [
    "y_pred_cumulative = y_pred_daily.cumsum() + last_actual_value\n",
    "y_pred_cumulative"
   ]
  },
  {
   "cell_type": "code",
   "execution_count": null,
   "metadata": {},
   "outputs": [],
   "source": [
    "def get_cumulative_pred(last_actual_value, y_pred_daily, last_date):\n",
    "    \"\"\"\n",
    "    Calculates cumulative predictions from daily forecasts.\n",
    "\n",
    "    Parameters\n",
    "    ----------\n",
    "    last_actual_value : int\n",
    "    y_pred_daily : array\n",
    "    last_date : str\n",
    "\n",
    "    Returns\n",
    "    -------\n",
    "    Series\n",
    "    \"\"\"\n",
    "    first_pred_date = pd.Timestamp(last_date) + pd.Timedelta(\"1D\")\n",
    "    n_pred = len(y_pred_daily)\n",
    "    index = pd.date_range(start=first_pred_date, periods=n_pred)\n",
    "    return pd.Series(y_pred_daily.cumsum(), index=index) + last_actual_value\n",
    "\n"
   ]
  },
  {
   "cell_type": "markdown",
   "metadata": {},
   "source": [
    "The predictive model used earlier did not provide acurate results (mismatch between predicted and actual values). By implimenting the predicted daily values for the cumulative total remedies the issue faced with when using the smoothed data with cumulative values that didn't allign with the last cumulative value."
   ]
  },
  {
   "cell_type": "code",
   "execution_count": null,
   "metadata": {},
   "outputs": [],
   "source": [
    "from functions import get_cumulative_pred\n",
    "s_pred_cumulative = get_cumulative_pred(last_actual_value, y_pred_daily, \"2020-05-30\")\n",
    "s_pred_cumulative.tail()"
   ]
  },
  {
   "cell_type": "code",
   "execution_count": null,
   "metadata": {},
   "outputs": [],
   "source": [
    "def plot_prediction(s, s_pred, title=\"\"):\n",
    "    \"\"\"\n",
    "    Plots original and predicted values.\n",
    "\n",
    "    Parameters\n",
    "    ----------\n",
    "    s : Series\n",
    "    s_pred : Series\n",
    "    title : str\n",
    "\n",
    "    Returns\n",
    "    -------\n",
    "    None\n",
    "    \"\"\"\n",
    "    last_pred_date = s_pred.index[-1]\n",
    "    ax = s[:last_pred_date].plot(label=\"Actual\")\n",
    "    s_pred.plot(label=\"Predicted\")\n",
    "    ax.legend()\n",
    "    ax.set_title(title)"
   ]
  },
  {
   "cell_type": "code",
   "execution_count": null,
   "metadata": {},
   "outputs": [],
   "source": [
    "from functions import plot_prediction\n",
    "plot_prediction(californiac, s_pred_cumulative, title=\"California Cases\")"
   ]
  },
  {
   "cell_type": "code",
   "execution_count": null,
   "metadata": {},
   "outputs": [],
   "source": [
    "from functions import smooth\n",
    "\n",
    "def predict_all(s, start_date, last_date, n_smooth, n_pred, model, bounds, p0, title=\"\", **kwargs):\n",
    "    \"\"\"\n",
    "    Full pipeline to smooth, train, predict, and plot a data series.\n",
    "\n",
    "    Parameters\n",
    "    ----------\n",
    "    s : Series\n",
    "    start_date, last_date : str\n",
    "    n_smooth, n_pred : int\n",
    "    model : function\n",
    "    bounds, p0 : tuple\n",
    "    title : str\n",
    "\n",
    "    Returns\n",
    "    -------\n",
    "    tuple\n",
    "    \"\"\"\n",
    "    # Smooth up to the last date\n",
    "    s_smooth = smooth(s[:last_date], n=n_smooth)\n",
    "\n",
    "    # Filter for the start of the modeling period\n",
    "    s_smooth = s_smooth[start_date:]\n",
    "    params = train_model(\n",
    "        s_smooth, last_date=last_date, model=model, bounds=bounds, p0=p0, **kwargs\n",
    "    )\n",
    "    n_train = len(s_smooth)\n",
    "    y_daily_pred = get_daily_pred(model, params, n_train, n_pred)\n",
    "    last_actual_value = s.loc[last_date]\n",
    "    s_cumulative_pred = get_cumulative_pred(last_actual_value, y_daily_pred, last_date)\n",
    "    plot_prediction(s[start_date:], s_cumulative_pred, title=title)\n",
    "    return params, y_daily_pred\n"
   ]
  },
  {
   "cell_type": "code",
   "execution_count": null,
   "metadata": {},
   "outputs": [],
   "source": [
    "from functions import predict_all\n",
    "bounds = (1, 1), (np.inf, 10)\n",
    "p0 = 1, 1\n",
    "params, y_pred = predict_all(californiac, start_date=None, last_date=\"2020-05-30\", n_smooth=15, \n",
    "                             n_pred=50, model=simple_exp, bounds=bounds, \n",
    "                             p0=p0, title=\"California Cases\")"
   ]
  },
  {
   "cell_type": "markdown",
   "metadata": {},
   "source": [
    "### Continuous Growth with $e$\n",
    "\n",
    "\n",
    "This COVID dataset contains information reported once per day. Continuous growth uses $e$ to represent the limit of the growth rate if the growth rate were measured in very small intervals. If this model applied continuous growth using $e$ as opposed to daily growth, the model would apply the following formula:\n",
    "\n",
    "$$f(x) = a e^{bx}$$\n",
    "\n",
    "\n",
    "`a` still represents the initial value and `b` still represent s the growth rate, however the growth rate can be negative or positive. \n"
   ]
  },
  {
   "cell_type": "code",
   "execution_count": null,
   "metadata": {},
   "outputs": [],
   "source": [
    "x = np.arange(20)\n",
    "a = 200\n",
    "b_old = 1.1\n",
    "b_new = b_old - 1\n",
    "y_old = a * b_old ** x\n",
    "y_new = a * np.exp(b_new * x)\n",
    "\n",
    "fig, ax = plt.subplots()\n",
    "ax.set_title('Contiuous vs Daily Growth')\n",
    "ax.plot(y_new, label='10% continuous growth')\n",
    "ax.plot(y_old, label='10% daily growth')\n",
    "ax.legend();"
   ]
  },
  {
   "cell_type": "code",
   "execution_count": null,
   "metadata": {},
   "outputs": [],
   "source": [
    "def simple_exp_cont(x, a, b):\n",
    "    \"\"\"\n",
    "    Simple exponential model using continuous growth\n",
    "    \n",
    "    Parameters\n",
    "    ----------\n",
    "    x : array of x-values, usually just np.arange(len(y))\n",
    "    \n",
    "    a : initial starting value\n",
    "    \n",
    "    b : growth rate\n",
    "    \"\"\"\n",
    "    return a * np.exp(b * x)"
   ]
  },
  {
   "cell_type": "code",
   "execution_count": null,
   "metadata": {},
   "outputs": [],
   "source": [
    "bounds = [1, 0.001], [10_000, 0.1]\n",
    "p0 = 1, .01\n",
    "predict_all(californiac,  start_date=None, last_date=\"2020-05-30\", n_smooth=0.15, n_pred=50, \n",
    "            model=simple_exp_cont, bounds=bounds, p0=p0, title=\"California Cases\");"
   ]
  },
  {
   "cell_type": "markdown",
   "metadata": {},
   "source": [
    "## Modeling exponential decline"
   ]
  },
  {
   "cell_type": "code",
   "execution_count": null,
   "metadata": {},
   "outputs": [],
   "source": [
    "italyc = data['world_cases']['Italy']\n",
    "italyc = italyc['2020-03-20':'2020-06-01']\n",
    "italyc.plot(title=\"Italy Cases\");"
   ]
  },
  {
   "cell_type": "markdown",
   "metadata": {},
   "source": [
    "### Attempt to fit an exponential mode`\n",
    "Testing the accuracy of the `predict_all` function. Fitting simple exponential model to Italy's April data. "
   ]
  },
  {
   "cell_type": "code",
   "execution_count": null,
   "metadata": {},
   "outputs": [],
   "source": [
    "predict_all(italyc, start_date=None, last_date=\"2020-04-10\", n_smooth=15, n_pred=20, \n",
    "            model=simple_exp_cont, bounds=bounds, p0=p0, title=\"Italy Cases\");"
   ]
  },
  {
   "cell_type": "markdown",
   "metadata": {},
   "source": [
    "### Increasing exponential decline\n",
    "\n",
    "\n",
    "The continuous growth using e worked well for modeling the beginning during the period of exponential growth, but this approach did not accurately depict the slowdown. The actual values exponentially decline. Exponential decline occurs when values decline towards 0 but are declining toward an asymptote. This is **increasing exponential decline**. The values increase, but at slower rates over time. \n"
   ]
  },
  {
   "cell_type": "code",
   "execution_count": null,
   "metadata": {},
   "outputs": [],
   "source": [
    "a = -200\n",
    "b = .95\n",
    "x = np.arange(100)\n",
    "y = a * b ** x\n",
    "fig, ax = plt.subplots()\n",
    "ax.plot(y)\n",
    "ax.set_title('Increasing Exponential Decline');"
   ]
  },
  {
   "cell_type": "markdown",
   "metadata": {},
   "source": [
    "Variable `c` can be used to shift the values upwards.\n",
    "\n",
    "$$f(x) = ab^x + c$$\n",
    "\n",
    "or \n",
    "\n",
    "\n",
    "$$f(x) = ae^{bx} + c$$\n",
    "\n",
    "Applying this model will movethe asymptote from 0 to `c` with the initial value now at `a + c`. In the case of increasing exponential decline `a` will always be negative and `b` will be less than 1. \n"
   ]
  },
  {
   "cell_type": "code",
   "execution_count": null,
   "metadata": {},
   "outputs": [],
   "source": [
    "a = -200\n",
    "b = 0.95\n",
    "b2 = 0.8\n",
    "c = 500\n",
    "x = np.arange(100)\n",
    "y = a * b ** x + c\n",
    "y2 = a * b2 ** x + c\n",
    "\n",
    "fig, ax = plt.subplots()\n",
    "ax.plot(y, label=f'growth rate = {b}')\n",
    "ax.plot(y2, label=f'growth rate = {b2}')\n",
    "ax.set_title('Increasing Exponential Decline with Added Constant')\n",
    "ax.legend();"
   ]
  },
  {
   "cell_type": "markdown",
   "metadata": {},
   "source": [
    "Let's use this model for the currently selected cases in Italy using the following function to represent this new model."
   ]
  },
  {
   "cell_type": "code",
   "execution_count": null,
   "metadata": {},
   "outputs": [],
   "source": [
    "def exp_decline(x, a, b, c):\n",
    "    \"\"\"\n",
    "    Simple exponential decline model\n",
    "    \n",
    "    Parameters\n",
    "    ----------\n",
    "    x : array of x-values, usually just np.arange(len(y))\n",
    "    \n",
    "    a : initial value\n",
    "    \n",
    "    b : growth rate\n",
    "    \n",
    "    c : vertical shift\n",
    "    \"\"\"\n",
    "    return a * b ** x + c"
   ]
  },
  {
   "cell_type": "markdown",
   "metadata": {},
   "source": [
    "REWORD:\n",
    "\n",
    "We must change our bounds in order for this model to work. Here, `a` must be negative, `b` between 0 and 1, and `c` positive. We set the bounds for both `a` and `c` to be a very wide interval as we do not know the final total of cases in Italy. Let's use the `predict_all` function to build a model using data up through April 10."
   ]
  },
  {
   "cell_type": "code",
   "execution_count": null,
   "metadata": {},
   "outputs": [],
   "source": [
    "bounds = [-1000000, .1, 0], [-1, 1, np.inf]\n",
    "p0 = -1000, .5, 100\n",
    "predict_all(italyc, start_date=None, last_date=\"2020-04-10\", n_smooth=15, n_pred=30, \n",
    "            model=exp_decline, bounds=bounds, p0=p0, title=\"Italy Cases\");"
   ]
  },
  {
   "cell_type": "markdown",
   "metadata": {},
   "source": [
    "REWORDThe shape of the model looks good and the predictions are decent. Below, we build the same model using continuous growth."
   ]
  },
  {
   "cell_type": "code",
   "execution_count": null,
   "metadata": {},
   "outputs": [],
   "source": [
    "def exp_decline_cont(x, a, b, c):\n",
    "    \"\"\"\n",
    "    Simple exponential decline with continuous growth\n",
    "    \n",
    "    Parameters\n",
    "    ----------\n",
    "    x : array of x-values, usually just np.arange(len(y))\n",
    "    \n",
    "    a : initial value\n",
    "    \n",
    "    b : growth rate\n",
    "    \n",
    "    c : vertical shift\n",
    "    \"\"\"\n",
    "    return a * np.exp(b * x) + c"
   ]
  },
  {
   "cell_type": "markdown",
   "metadata": {},
   "source": [
    "REWORD:The bounds for the growth rate must be set to be negative."
   ]
  },
  {
   "cell_type": "code",
   "execution_count": null,
   "metadata": {},
   "outputs": [],
   "source": [
    "bounds = [-1000000, -1, 0], [-1, 0, np.inf]\n",
    "p0 = -1, -1, 1\n",
    "predict_all(italyc['2020-03-10':], start_date=None, last_date=\"2020-04-20\", n_smooth=15, n_pred=30, \n",
    "            model=exp_decline_cont, bounds=bounds, p0=p0, title=\"Italy Cases\");"
   ]
  }
 ],
 "metadata": {
  "kernelspec": {
   "display_name": "Python 3 (ipykernel)",
   "language": "python",
   "name": "python3"
  },
  "language_info": {
   "codemirror_mode": {
    "name": "ipython",
    "version": 3
   },
   "file_extension": ".py",
   "mimetype": "text/x-python",
   "name": "python",
   "nbconvert_exporter": "python",
   "pygments_lexer": "ipython3",
   "version": "3.11.3"
  }
 },
 "nbformat": 4,
 "nbformat_minor": 4
}
