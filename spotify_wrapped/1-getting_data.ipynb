{
 "cells": [
  {
   "cell_type": "code",
   "execution_count": 1,
   "id": "f653c5d6",
   "metadata": {},
   "outputs": [],
   "source": [
    "#Imports"
   ]
  },
  {
   "cell_type": "code",
   "execution_count": 2,
   "id": "f69cacca",
   "metadata": {},
   "outputs": [],
   "source": [
    "import pandas as pd \n",
    "import json\n",
    "from typing import List\n",
    "import os\n",
    "from os import listdir\n",
    "import matplotlib.pyplot as plt\n",
    "import spotipy\n",
    "import spotipy.util as util\n",
    "from spotipy.oauth2 import SpotifyClientCredentials\n",
    "import plotly.express as px\n",
    "import plotly.io as pio\n",
    "from datetime import datetime\n",
    "import pytz \n",
    "from collections import Counter\n",
    "\n",
    "from utilis import (\n",
    "    get_streamings,\n",
    "    minsec_to_seconds,\n",
    "    format_time,\n",
    "    generate_top_10_songs_by_year,\n",
    "    save_cache,\n",
    "    search_track_id,\n",
    "    get_audio_features\n",
    ")\n"
   ]
  },
  {
   "cell_type": "code",
   "execution_count": null,
   "id": "9964ef7b",
   "metadata": {},
   "outputs": [],
   "source": [
    "# Title: Load and Clean Raw Spotify Streaming Data\n",
    "\n",
    "# Description:\n",
    "# Loads raw Spotify streaming history from local files, \n",
    "# converts timestamps and extracts year and month, \n",
    "# drops irrelevant or podcast-specific columns, \n",
    "# removes entries missing required track and artist metadata, \n",
    "# filters out rows with empty string values, \n",
    "# and adds a formatted listening duration column in MM:SS format."
   ]
  },
  {
   "cell_type": "code",
   "execution_count": 7,
   "id": "5053e630",
   "metadata": {},
   "outputs": [
    {
     "name": "stdout",
     "output_type": "stream",
     "text": [
      "                         ts  ms_played master_metadata_track_name  \\\n",
      "0 2017-03-11 02:59:24+00:00     254693                   Red Tide   \n",
      "1 2017-03-11 02:59:32+00:00       6196            Red Tide Rising   \n",
      "2 2017-03-11 02:59:45+00:00      10499            Red Tide Rising   \n",
      "3 2017-03-11 03:01:38+00:00      19294                   Red Tide   \n",
      "4 2017-03-11 03:03:03+00:00      85600                   Red Tide   \n",
      "\n",
      "  master_metadata_album_artist_name master_metadata_album_album_name  \\\n",
      "0                      The Growlers               Are You In Or Out?   \n",
      "1                     Orange Goblin          A Eulogy for the Damned   \n",
      "2                     Orange Goblin          A Eulogy for the Damned   \n",
      "3                      The Growlers               Are You In Or Out?   \n",
      "4                      The Growlers               Are You In Or Out?   \n",
      "\n",
      "                      spotify_track_uri  year  month listening_length  \n",
      "0  spotify:track:5o7taLCeXkjmrmOd9YR9iS  2017  March             4:14  \n",
      "1  spotify:track:66Msn8nRBJhfo56TpVRPjj  2017  March             0:06  \n",
      "2  spotify:track:66Msn8nRBJhfo56TpVRPjj  2017  March             0:10  \n",
      "3  spotify:track:5o7taLCeXkjmrmOd9YR9iS  2017  March             0:19  \n",
      "4  spotify:track:5o7taLCeXkjmrmOd9YR9iS  2017  March             1:25  \n"
     ]
    }
   ],
   "source": [
    "spotify_data_directory = 'data'\n",
    "\n",
    "required_metadata = [\n",
    "    'master_metadata_track_name',\n",
    "    'master_metadata_album_artist_name',\n",
    "    'master_metadata_album_album_name',\n",
    "    'spotify_track_uri'\n",
    "]\n",
    "\n",
    "drop_columns = [\n",
    "    'spotify_episode_uri', 'reason_start', 'reason_end', 'shuffle',\n",
    "    'skipped', 'offline', 'offline_timestamp', 'incognito_mode',\n",
    "    'episode_name', 'platform', 'episode_show_name', 'conn_country', 'ip_addr',\n",
    "    'audiobook_title', 'audiobook_uri', 'audiobook_chapter_uri', 'audiobook_chapter_title'\n",
    "]\n",
    "\n",
    "# Load and fully clean the streaming data\n",
    "streaming_data = (\n",
    "    pd.DataFrame(get_streamings(spotify_data_directory))\n",
    "    .assign(\n",
    "        ts=lambda df: pd.to_datetime(df['ts']),\n",
    "        year=lambda df: df['ts'].dt.year,\n",
    "        month=lambda df: df['ts'].dt.strftime('%B')\n",
    "    )\n",
    "    .drop(columns=drop_columns, errors='ignore')\n",
    "    .dropna(subset=required_metadata)\n",
    "    .query(\" & \".join([f\"{col}.str.strip() != ''\" for col in required_metadata]))\n",
    "    .copy()  # avoid SettingWithCopyWarning\n",
    ")\n",
    "\n",
    "# Add listening length as MM:SS\n",
    "streaming_data['listening_length'] = streaming_data['ms_played'].apply(\n",
    "    lambda ms: f\"{int(ms // 60000)}:{int((ms % 60000) // 1000):02d}\" if pd.notnull(ms) else \"0:00\"\n",
    ")\n",
    "\n",
    "# View result\n",
    "print(streaming_data.head())\n"
   ]
  },
  {
   "cell_type": "code",
   "execution_count": 18,
   "id": "9ee6d4de",
   "metadata": {},
   "outputs": [],
   "source": [
    "#save Streaming_data as csv"
   ]
  },
  {
   "cell_type": "code",
   "execution_count": null,
   "id": "7441cc55",
   "metadata": {},
   "outputs": [
    {
     "name": "stdout",
     "output_type": "stream",
     "text": [
      "2017-03-11 02:59:24+00:00\n",
      "2025-03-20 23:47:08+00:00\n"
     ]
    }
   ],
   "source": [
    "# Save the cleaned streaming data to CSV\n",
    "streaming_data.to_csv('wrapped_data/streaming_data.csv', index=False)\n",
    "\n",
    "# Print the earliest timestamp in the dataset\n",
    "print(streaming_data['ts'].min())\n",
    "\n",
    "# Print the latest timestamp in the dataset\n",
    "print(streaming_data['ts'].max())\n"
   ]
  },
  {
   "cell_type": "code",
   "execution_count": null,
   "id": "e3b405ba",
   "metadata": {},
   "outputs": [],
   "source": []
  }
 ],
 "metadata": {
  "kernelspec": {
   "display_name": "base",
   "language": "python",
   "name": "python3"
  },
  "language_info": {
   "codemirror_mode": {
    "name": "ipython",
    "version": 3
   },
   "file_extension": ".py",
   "mimetype": "text/x-python",
   "name": "python",
   "nbconvert_exporter": "python",
   "pygments_lexer": "ipython3",
   "version": "3.11.3"
  }
 },
 "nbformat": 4,
 "nbformat_minor": 5
}
